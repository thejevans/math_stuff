{
 "cells": [
  {
   "cell_type": "code",
   "execution_count": 243,
   "metadata": {},
   "outputs": [],
   "source": [
    "from itertools import accumulate\n",
    "from functools import reduce\n",
    "\n",
    "def fin_continued_frac(a, b):\n",
    "    # a and b are iterables. len(a) = len(b) - 1\n",
    "    a.append(0)\n",
    "    a.reverse()\n",
    "    b.reverse()\n",
    "    return reduce(lambda x,y: y[1] + y[0] / x, zip(a,b), 1)\n",
    "    \n",
    "def inf_continued_frac(steps, a, b):\n",
    "    # a and b are functions. steps is a positive int.\n",
    "    generate = lambda x,s: list(accumulate(range(-1,s),x))[1:]\n",
    "    a_list = generate(a, steps - 1)\n",
    "    b_list = generate(b, steps)\n",
    "    return fin_continued_frac(a_list, b_list)"
   ]
  },
  {
   "cell_type": "code",
   "execution_count": 244,
   "metadata": {},
   "outputs": [
    {
     "name": "stdout",
     "output_type": "stream",
     "text": [
      "sqrt2 =\t1.414213562373095...\n",
      "phi =\t1.618033988749895...\n",
      "pi =\t3.141592903558553...\n",
      "pi =\t3.141592653589793...\n",
      "pi =\t3.141592653011902...\n",
      "e =\t2.718281828459046...\n",
      "e =\t2.581976706869326...\n"
     ]
    }
   ],
   "source": [
    "phi   = (lambda _,x: 1, lambda _,x: 1)\n",
    "e     = (lambda _,x: 1, lambda _,x: 2*(x+1)/3 if x%3==2 else 2 if x==0 else 1)\n",
    "e_v2  = (lambda _,x: x+1, lambda _,x: x if x>0 else 2)\n",
    "pi    = (lambda _,x: (2*x+1)**2, lambda _,x: 6 if x>0 else 3)\n",
    "pi_v2 = (lambda _,x: x**2 if x>0 else 4, lambda _,x: 2*x-1 if x>0 else 0)\n",
    "sqrt2 = (lambda _,x: 1, lambda _,x: 2 if x>0 else 1)\n",
    "\n",
    "print('sqrt2 =\\t{:.15f}...'.format(inf_continued_frac(100000, *sqrt2)))\n",
    "print('phi =\\t{:.15f}...'.format(inf_continued_frac(100000, *phi)))\n",
    "print('pi =\\t{:.15f}...'.format(inf_continued_frac(100, *pi)))\n",
    "print('pi =\\t{:.15f}...'.format(inf_continued_frac(100000, *pi_v2)))\n",
    "print('pi =\\t{:.15f}...'.format(fin_continued_frac([1,1,1,1],[3,7,15,1,292])))\n",
    "print('e =\\t{:.15f}...'.format(inf_continued_frac(100000, *e)))\n",
    "print('e =\\t{:.15f}...'.format(inf_continued_frac(100000, *e_v2)))"
   ]
  },
  {
   "cell_type": "markdown",
   "metadata": {},
   "source": []
  }
 ],
 "metadata": {
  "kernelspec": {
   "display_name": "Python 3",
   "language": "python",
   "name": "python3"
  },
  "language_info": {
   "codemirror_mode": {
    "name": "ipython",
    "version": 3
   },
   "file_extension": ".py",
   "mimetype": "text/x-python",
   "name": "python",
   "nbconvert_exporter": "python",
   "pygments_lexer": "ipython3",
   "version": "3.6.4"
  }
 },
 "nbformat": 4,
 "nbformat_minor": 2
}
