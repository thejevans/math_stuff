{
 "cells": [
  {
   "cell_type": "code",
   "execution_count": 193,
   "metadata": {},
   "outputs": [],
   "source": [
    "from itertools import accumulate\n",
    "from functools import reduce\n",
    "from math import ceil, floor\n",
    "\n",
    "def fin_continued_frac(a, b):\n",
    "    # a and b are iterables. len(a) = len(b) - 1\n",
    "    while len(a) < len(b):\n",
    "        a.append(0)\n",
    "    a.reverse()\n",
    "    b.reverse()\n",
    "    return reduce(lambda prev_out,inputs: inputs[1] + inputs[0] / prev_out, list(zip(a,b)), 1)\n",
    "    \n",
    "def inf_continued_frac(steps, num):\n",
    "    a, b = num\n",
    "    # a and b are dicts. {'start_list':list, 'seed':list, 'map':func}\n",
    "    # 'start_list' is a list containing indicies before pattern starts\n",
    "    # 'seed' contains the first item in pattern\n",
    "    # 'map' is the definition of the pattern\n",
    "    # steps is a positive int.\n",
    "    generate = lambda x,s,f: \\\n",
    "    x['start_list'] + \\\n",
    "    [z for y in accumulate([x['seed']]*f((s-len(x['start_list']))/len(x['seed'])),x['map']) \\\n",
    "    for z in y]\n",
    "    a_list = generate(a, steps - 1, floor)\n",
    "    b_list = generate(b, steps, ceil)\n",
    "    return fin_continued_frac(a_list, b_list)"
   ]
  },
  {
   "cell_type": "code",
   "execution_count": 202,
   "metadata": {},
   "outputs": [
    {
     "name": "stdout",
     "output_type": "stream",
     "text": [
      "phi =\t\t1.618033988749895...\n",
      "e =\t\t2.718281828459046...\n",
      "e =\t\t2.718281828459046...\n",
      "sqrt of 2 =\t1.414213562373095...\n",
      "pi =\t\t3.141592653589793...\n"
     ]
    }
   ],
   "source": [
    "phi   = ({'start_list':[],    'seed':[1],     'map':lambda x,_: x}, \n",
    "         {'start_list':[],    'seed':[1],     'map':lambda x,_: x})\n",
    "e     = ({'start_list':[1],   'seed':[1],     'map':lambda x,_: [x[0]+1]}, \n",
    "         {'start_list':[2],   'seed':[1],     'map':lambda x,_: [x[0]+1]})\n",
    "e_v2  = ({'start_list':[1],   'seed':[1],     'map':lambda x,_: x}, \n",
    "         {'start_list':[2,1], 'seed':[2,1,1], 'map':lambda x,_: [x[0]+2,x[1],x[2]]})\n",
    "sqrt2 = ({'start_list':[],    'seed':[1],     'map':lambda x,_: x}, \n",
    "         {'start_list':[1],   'seed':[2],     'map':lambda x,_: x})\n",
    "pi    = ({'start_list':[],    'seed':[1],     'map':lambda x,_: [(x[0]**.5+2)**2]}, \n",
    "         {'start_list':[3],   'seed':[6],     'map':lambda x,_: x})\n",
    "\n",
    "print('phi =\\t\\t{:.15f}...'.format(inf_continued_frac(100000, phi)))\n",
    "print('e =\\t\\t{:.15f}...'.format(inf_continued_frac(100000, e)))\n",
    "print('e =\\t\\t{:.15f}...'.format(inf_continued_frac(100000, e_v2)))\n",
    "print('sqrt of 2 =\\t{:.15f}...'.format(inf_continued_frac(100000, sqrt2)))\n",
    "print('pi =\\t\\t{:.15f}...'.format(inf_continued_frac(1000000, pi)))"
   ]
  },
  {
   "cell_type": "markdown",
   "metadata": {},
   "source": []
  }
 ],
 "metadata": {
  "kernelspec": {
   "display_name": "Python 3",
   "language": "python",
   "name": "python3"
  },
  "language_info": {
   "codemirror_mode": {
    "name": "ipython",
    "version": 3
   },
   "file_extension": ".py",
   "mimetype": "text/x-python",
   "name": "python",
   "nbconvert_exporter": "python",
   "pygments_lexer": "ipython3",
   "version": "3.6.4"
  }
 },
 "nbformat": 4,
 "nbformat_minor": 2
}
